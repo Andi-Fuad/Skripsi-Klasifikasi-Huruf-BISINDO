{
 "cells": [
  {
   "cell_type": "code",
   "execution_count": 1,
   "id": "ee8d5c73",
   "metadata": {},
   "outputs": [],
   "source": [
    "import cv2\n",
    "import torch\n",
    "import torchvision.transforms as transforms\n",
    "import matplotlib.pyplot as plt\n",
    "from torchvision import models\n",
    "import torch.nn as nn\n",
    "import numpy as np\n",
    "import time\n",
    "import os"
   ]
  },
  {
   "cell_type": "code",
   "execution_count": 34,
   "id": "2a3a8143",
   "metadata": {},
   "outputs": [
    {
     "name": "stderr",
     "output_type": "stream",
     "text": [
      "C:\\Users\\Lenovo\\AppData\\Local\\Temp\\ipykernel_6512\\3582699760.py:2: FutureWarning: You are using `torch.load` with `weights_only=False` (the current default value), which uses the default pickle module implicitly. It is possible to construct malicious pickle data which will execute arbitrary code during unpickling (See https://github.com/pytorch/pytorch/blob/main/SECURITY.md#untrusted-models for more details). In a future release, the default value for `weights_only` will be flipped to `True`. This limits the functions that could be executed during unpickling. Arbitrary objects will no longer be allowed to be loaded via this mode unless they are explicitly allowlisted by the user via `torch.serialization.add_safe_globals`. We recommend you start setting `weights_only=True` for any use case where you don't have full control of the loaded file. Please open an issue on GitHub for any issues related to this experimental feature.\n",
      "  model = torch.load('V4/vit_model.pth', map_location=torch.device('cpu'))\n"
     ]
    }
   ],
   "source": [
    "# Load your trained PyTorch model\n",
    "model = torch.load('V4/vit_model.pth', map_location=torch.device('cpu'))\n",
    "model.eval()\n",
    "\n",
    "transform = transforms.Compose([\n",
    "    transforms.ToPILImage(),\n",
    "    transforms.Resize((224, 224)),\n",
    "    transforms.ToTensor(),\n",
    "    transforms.Normalize(mean=[0.5, 0.5, 0.5], std=[0.5, 0.5, 0.5])\n",
    "])\n",
    "\n",
    "# Dictionary for class mapping\n",
    "class_names = {\n",
    "    0: \"A\", 1: \"B\", 2: \"C\", 3: \"D\", 4: \"E\", 5: \"F\", 6: \"G\",\n",
    "    7: \"H\", 8: \"I\", 9: \"J\", 10: \"K\", 11: \"L\", 12: \"M\", 13: \"N\",\n",
    "    14: \"O\", 15: \"P\", 16: \"Q\", 17: \"R\", 18: \"S\", 19: \"T\", 20: \"U\",\n",
    "    21: \"V\", 22: \"W\", 23: \"X\", 24: \"Y\", 25: \"Z\"\n",
    "}\n",
    "\n",
    "# Output directory for saving frames\n",
    "actual_class = \"E\"\n",
    "output_dir = \"testing_\" + actual_class\n",
    "os.makedirs(output_dir, exist_ok=True)\n",
    "\n",
    "frame_count = 0\n",
    "\n",
    "fourcc = cv2.VideoWriter_fourcc(*'XVID')\n",
    "out = cv2.VideoWriter(output_dir + '.avi', fourcc, 5.0, (640, 480))\n",
    "\n",
    "# Open webcam\n",
    "cap = cv2.VideoCapture(0)\n",
    "\n",
    "while True:\n",
    "    ret, frame = cap.read()\n",
    "    if not ret:\n",
    "        break\n",
    "    \n",
    "    img = cv2.cvtColor(frame, cv2.COLOR_BGR2RGB)\n",
    "    img = transform(img).unsqueeze(0)\n",
    "\n",
    "    with torch.no_grad():\n",
    "        output = model(img)\n",
    "    _, predicted_class = torch.max(output, 1)\n",
    "    confidence = torch.nn.functional.softmax(output, dim=1)[0][predicted_class].item()\n",
    "    \n",
    "    # Get the class name from the mapping\n",
    "    predict_class = class_names.get(predicted_class.item())\n",
    "    \n",
    "    class_text = f\"Class: {predict_class}\"\n",
    "    confidence_text = f\"Confidence: {confidence:.2f}\"\n",
    "    \n",
    "    # Display text\n",
    "    cv2.putText(frame, class_text, (10, 175), cv2.FONT_HERSHEY_SIMPLEX, 1, (0, 0, 153), 3)\n",
    "    cv2.putText(frame, confidence_text, (10, 225), cv2.FONT_HERSHEY_SIMPLEX, 1, (0, 0, 153), 3)\n",
    "    \n",
    "    # Simpan frame yang telah diprediksi ke dalam file video\n",
    "    out.write(frame)\n",
    "    cv2.imshow('BISINDO Real-Time Classification', frame)\n",
    "    \n",
    "    # Simpan frame dalam file gambar\n",
    "    frame_filename = os.path.join(output_dir, f'frame_{frame_count:04d}_{predict_class}.png')\n",
    "    cv2.imwrite(frame_filename, frame)\n",
    "    frame_count += 1\n",
    "\n",
    "    if cv2.waitKey(1) & 0xFF == ord('q'):\n",
    "        break\n",
    "\n",
    "cap.release()\n",
    "out.release()\n",
    "cv2.destroyAllWindows()"
   ]
  },
  {
   "cell_type": "code",
   "execution_count": null,
   "id": "b25d41cb",
   "metadata": {},
   "outputs": [],
   "source": []
  }
 ],
 "metadata": {
  "kernelspec": {
   "display_name": "Python 3 (ipykernel)",
   "language": "python",
   "name": "python3"
  },
  "language_info": {
   "codemirror_mode": {
    "name": "ipython",
    "version": 3
   },
   "file_extension": ".py",
   "mimetype": "text/x-python",
   "name": "python",
   "nbconvert_exporter": "python",
   "pygments_lexer": "ipython3",
   "version": "3.11.5"
  }
 },
 "nbformat": 4,
 "nbformat_minor": 5
}
